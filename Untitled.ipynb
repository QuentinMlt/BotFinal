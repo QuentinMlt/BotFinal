{
 "cells": [
  {
   "cell_type": "markdown",
   "id": "62579850",
   "metadata": {},
   "source": [
    "### Stocker les données dans un fichier Json "
   ]
  },
  {
   "cell_type": "markdown",
   "id": "619e0550",
   "metadata": {},
   "source": [
    "Le format JSON est un format de fichier léger très répandu ; il est principalement utilisé pour stocker et transférer des données entre des serveurs web et des applications. Il s’agit d’un format de fichier complet, indépendant de la langue et facile à comprendre pour un humain."
   ]
  },
  {
   "cell_type": "markdown",
   "id": "a3f91c76",
   "metadata": {},
   "source": [
    "La méthode dump(obj, file, ..) du module 'json' écrit également l’objet de données 'obj' dans l’objet de fichier ouvert 'file'. Et la méthode 'load(file, ..)' du module 'json' lit également le fichier et renvoie l’objet du type de données à l’aide duquel les données ont été enregistrées. Dans notre cas, il s’agira d’un dictionnaire."
   ]
  },
  {
   "cell_type": "code",
   "execution_count": 7,
   "id": "51a1639e",
   "metadata": {},
   "outputs": [
    {
     "name": "stdout",
     "output_type": "stream",
     "text": [
      "{'Ali': 9, 'Sid': 1, 'Luna': 7, 'Sim': 12, 'Pooja': 4, 'Jen': 2}\n",
      "<class 'dict'>\n"
     ]
    }
   ],
   "source": [
    "import json\n",
    "\n",
    "my_dict = { 'Ali': 9, 'Sid': 1, 'Luna': 7, 'Sim': 12, 'Pooja': 4, 'Jen': 2}\n",
    "with open('data.json', 'w') as fp:\n",
    "    json.dump(my_dict, fp)\n",
    "\n",
    "with open('data.json', 'r') as fp:\n",
    "    data = json.load(fp)\n",
    "print(data)\n",
    "print(type(data))\n"
   ]
  },
  {
   "cell_type": "markdown",
   "id": "2817b5c7",
   "metadata": {},
   "source": [
    " le module pickle permet de sauvegarder dans un fichier, au format binaire,  n'importe quel objet Python\n",
    " Il fonctionne comme le module json mais n'est pas limité à un seul format d'objet"
   ]
  },
  {
   "cell_type": "code",
   "execution_count": 8,
   "id": "8db33121",
   "metadata": {},
   "outputs": [
    {
     "name": "stdout",
     "output_type": "stream",
     "text": [
      "{'Ali': 9, 'Sid': 1, 'Luna': 7, 'Sim': 12, 'Pooja': 4, 'Jen': 2}\n",
      "<class 'dict'>\n"
     ]
    }
   ],
   "source": [
    "import pickle\n",
    "\n",
    "my_dict = { 'Ali': 9, 'Sid': 1, 'Luna': 7, 'Sim': 12, 'Pooja': 4, 'Jen': 2}\n",
    "with open('data.json', 'wb') as fp:\n",
    "    pickle.dump(my_dict, fp)\n",
    "\n",
    "with open('data.json', 'rb') as fp:\n",
    "    data = pickle.load(fp)\n",
    "print(data)\n",
    "print(type(data))\n"
   ]
  },
  {
   "cell_type": "markdown",
   "id": "a106daa4",
   "metadata": {},
   "source": [
    "### Les bases de données et le stockage d’informations\n"
   ]
  },
  {
   "cell_type": "markdown",
   "id": "1dd09937",
   "metadata": {},
   "source": [
    "Vous pouvez stocker des informations dans des fichiers XML mais très rapidement, suivant l'ampleur de votre projet, cette technologie atteindra ses limites que ce soit en terme de performances ou d'utilisation au quotidien. Si plusieurs personnes souhaitent modifier un fichier texte de données en même temps les erreurs seront inévitables. Il existe une solution pour stocker des informations et pouvoir travailler avec : les bases de données ."
   ]
  },
  {
   "cell_type": "markdown",
   "id": "3827446f",
   "metadata": {},
   "source": [
    "Une base de données ( database en anglais) est un conteneur dans lequel il est possible de stocker des données de façon structurée . Cette structurepermet au programme informatique connectée à celle-ci de faire des recherches complexes"
   ]
  },
  {
   "cell_type": "markdown",
   "id": "87161748",
   "metadata": {},
   "source": [
    "Un langage standardisé -SQL- est dédié à cette structure et permet aussi bien de faire des recherches mais aussi des modifications ou des suppressions."
   ]
  },
  {
   "cell_type": "markdown",
   "id": "40871cbf",
   "metadata": {},
   "source": [
    "Quels sont les SGBDR les plus connus? \n",
    "-PostgreSQL\n",
    "-MySQL \n",
    "-MariaDB \n",
    "-Oracle \n",
    "-Microsoft SQL Server \n",
    "-SQLite "
   ]
  },
  {
   "cell_type": "code",
   "execution_count": null,
   "id": "acb33a2c",
   "metadata": {},
   "outputs": [],
   "source": []
  }
 ],
 "metadata": {
  "kernelspec": {
   "display_name": "Python 3",
   "language": "python",
   "name": "python3"
  },
  "language_info": {
   "codemirror_mode": {
    "name": "ipython",
    "version": 3
   },
   "file_extension": ".py",
   "mimetype": "text/x-python",
   "name": "python",
   "nbconvert_exporter": "python",
   "pygments_lexer": "ipython3",
   "version": "3.9.2"
  }
 },
 "nbformat": 4,
 "nbformat_minor": 5
}
